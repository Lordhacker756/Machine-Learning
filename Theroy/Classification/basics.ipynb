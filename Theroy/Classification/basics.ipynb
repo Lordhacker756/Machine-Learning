{
 "cells": [
  {
   "cell_type": "markdown",
   "metadata": {},
   "source": [
    "# Difference Between Classification and Regression"
   ]
  },
  {
   "cell_type": "markdown",
   "metadata": {},
   "source": [
    "### In case of regression our Labels are infinte coz it's our model that predicts our label ie the value, but in case of classification we have predefined labels , hence it's a little easy"
   ]
  },
  {
   "cell_type": "markdown",
   "metadata": {},
   "source": [
    "#### Let's take an example, We are to detect weather the email that we have got is a spam or not"
   ]
  },
  {
   "cell_type": "markdown",
   "metadata": {},
   "source": [
    "So let's take two features for our classifier , one: How much urgency it shows and second: How much it talks about money\n",
    "\n",
    "We rate these two features in the range of 0-100 and plot that damn points , now the ones at the top right of the graph are the spammer's spam🤣"
   ]
  },
  {
   "cell_type": "markdown",
   "metadata": {},
   "source": [
    "# Talk is Cheap, Show Me The Code"
   ]
  },
  {
   "cell_type": "code",
   "execution_count": 5,
   "metadata": {},
   "outputs": [
    {
     "name": "stdout",
     "output_type": "stream",
     "text": [
      "For the features  [5.1 3.5 1.4 0.2]  It is assigned the label  0 \n",
      "\n"
     ]
    }
   ],
   "source": [
    "from sklearn import datasets\n",
    "\n",
    "#Loading datasets\n",
    "iris = datasets.load_iris()\n",
    "\n",
    "#Printing description and features\n",
    "#print(iris.DESCR)\n",
    "feature = iris.data\n",
    "labels = iris.target\n",
    "print(\"For the features \",feature[0],\" It is assigned the label \", labels[0] ,\"\\n\")"
   ]
  },
  {
   "cell_type": "markdown",
   "metadata": {},
   "source": [
    "Here the 4 points are petal sepal and some other lengths and 0 is the index which stores the value Iris-Vernoica ie the flower it identified with the data"
   ]
  },
  {
   "cell_type": "markdown",
   "metadata": {},
   "source": [
    "### Let's train our classifier with our data now"
   ]
  },
  {
   "cell_type": "code",
   "execution_count": 6,
   "metadata": {},
   "outputs": [
    {
     "name": "stdout",
     "output_type": "stream",
     "text": [
      "[0]\n"
     ]
    }
   ],
   "source": [
    "from sklearn import datasets\n",
    "from sklearn.neighbors import KNeighborsClassifier\n",
    "\n",
    "#Loading datasets\n",
    "iris = datasets.load_iris()\n",
    "\n",
    "features = iris.data\n",
    "labels = iris.target\n",
    "\n",
    "#Training Classifier\n",
    "clf = KNeighborsClassifier()\n",
    "clf.fit(features,labels)\n",
    "\n",
    "#Now it trained itself with the previous data,time to test\n",
    "preds = clf.predict([[1,1,1,1]])\n",
    "print(preds)\n"
   ]
  },
  {
   "cell_type": "markdown",
   "metadata": {},
   "source": [
    "## Let's see the working of K-Neighbour classifier"
   ]
  },
  {
   "cell_type": "markdown",
   "metadata": {},
   "source": [
    "So as we had an example of spam mail classifier, so according to the features we plot them in the graph as per the labels of (urgency and money talk), now we take any one point and, then start making a circle of radius K around it, with that as center and calculate the numbers of spam mails and valid mails inside that circular area , the one that dominates is the one that the point will be classified as , another way to do this is insted of circle we take the distance of the given point with neighbouring points, and see what is the label of point nearest to it , the trend is what helps us understand the label that will be assigned to this point"
   ]
  },
  {
   "cell_type": "markdown",
   "metadata": {},
   "source": [
    "## Overfitting and Underfitting"
   ]
  },
  {
   "cell_type": "markdown",
   "metadata": {},
   "source": [
    "### Overfitting ie Low training error and High testing error"
   ]
  },
  {
   "cell_type": "markdown",
   "metadata": {},
   "source": [
    "🤣This is what we do when we solve coding ke questions, we do literally any thing to make sure it passes the test cases, this concept is Overfitting, Jaise wo tailor galat suit ko bhi fit karwa diya tha just by changing the posture of the man"
   ]
  },
  {
   "cell_type": "markdown",
   "metadata": {},
   "source": [
    "## To overcome this Overfitting error "
   ]
  },
  {
   "cell_type": "markdown",
   "metadata": {},
   "source": [
    "We do two things one is Resampling, ie randomly selecting the test and training data and feeding it to the model again and again k times so as to make sure that the model is grasping the concept not adjusting itself to the pattern\n",
    "\n",
    "Second method is holding a validation data set ie lets assume we have 1000 dataset , we leave 100 dataset, for the end and do our training and testing with the remaining 900 data set no matter what"
   ]
  },
  {
   "cell_type": "markdown",
   "metadata": {},
   "source": [
    "### Underfitting ie High training error and High testing error aka Thara Mood Kharab Kar dena"
   ]
  },
  {
   "cell_type": "markdown",
   "metadata": {},
   "source": [
    "Matlab literlly kuch bhi dal diya hai, this isn't much useful concept"
   ]
  },
  {
   "cell_type": "markdown",
   "metadata": {},
   "source": [
    "# Logistic Regression"
   ]
  },
  {
   "cell_type": "markdown",
   "metadata": {},
   "source": [
    "### Aise to ye ek classifier hai lekin , this predicts the probability, eg will it rain or not, it was primarily made for binary classification but it's now imporoved  "
   ]
  },
  {
   "cell_type": "markdown",
   "metadata": {},
   "source": [
    "### Generalized Linear Model Equation, \n",
    "### g(E(y)) = a + bx1 + yx2.\n",
    "here E(y) is nothing but Label , and X1 and X2 are features (independent variables), g(y) is called a link function"
   ]
  },
  {
   "cell_type": "markdown",
   "metadata": {},
   "source": [
    "## Sigmoid Function \n",
    "### y = 1/(1+e^-x)"
   ]
  },
  {
   "cell_type": "code",
   "execution_count": 19,
   "metadata": {},
   "outputs": [
    {
     "data": {
      "text/plain": [
       "Text(0.0, 0.5, '   This point is 0.5')"
      ]
     },
     "execution_count": 19,
     "metadata": {},
     "output_type": "execute_result"
    },
    {
     "data": {
      "image/png": "[encoded data removed]",
      "text/plain": [
       "<Figure size 432x288 with 1 Axes>"
      ]
     },
     "metadata": {
      "needs_background": "light"
     },
     "output_type": "display_data"
    }
   ],
   "source": [
    "import numpy as np\n",
    "import matplotlib.pyplot as plt\n",
    "\n",
    "def sigmoid(arr, scale=1):\n",
    "    arr = np.asarray(arr)\n",
    "    result = 1/(1 + np.exp(-arr*scale))\n",
    "    return result\n",
    "\n",
    "x = np.linspace(-5, 5)\n",
    "y = sigmoid(x)\n",
    "\n",
    "fig, ax = plt.subplots()\n",
    "ax.plot(x, y)\n",
    "plt.axvline(0.0)\n",
    "plt.scatter([0],[0.5], color = \"red\")\n",
    "plt.annotate(\"   This point is 0.5\",[0.0,0.5])"
   ]
  },
  {
   "cell_type": "markdown",
   "metadata": {},
   "source": [
    "### Now before you get all crazy let me explain, why are we not using linear regression, see in case of probability we need our result to lie between 1 and 0 but as you've seen in linear regression our best fit line extends wayyy beyound that, hence we needed something else so we use sigmoid function, now as you can see the values of sigmoid function lies between 1 & 0 , so what we do is we take out the result from linear regression and pass the result as the pareameter in the sigmoid function and that transforms the result in the range of zero and one hence staisying our motive."
   ]
  },
  {
   "cell_type": "markdown",
   "metadata": {},
   "source": [
    "In probability Odds is actually p/1-p, and our function of linear regression ie y=wx+b where w is weight and b is bias, y of this function is log(odds)."
   ]
  },
  {
   "cell_type": "markdown",
   "metadata": {},
   "source": [
    "### We don't use mean squared error in this"
   ]
  },
  {
   "cell_type": "code",
   "execution_count": 16,
   "metadata": {},
   "outputs": [
    {
     "data": {
      "text/plain": [
       "Text(0.5, 1.0, 'Probility of Pass/Fail with No of Hours Studied')"
      ]
     },
     "execution_count": 16,
     "metadata": {},
     "output_type": "execute_result"
    },
    {
     "data": {
      "image/png": "[encoded data removed]",
      "text/plain": [
       "<Figure size 432x288 with 1 Axes>"
      ]
     },
     "metadata": {
      "needs_background": "light"
     },
     "output_type": "display_data"
    }
   ],
   "source": [
    "import numpy as np\n",
    "import matplotlib.pyplot as plt\n",
    "\n",
    "def sigmoid(arr, scale=1):\n",
    "    arr = np.asarray(arr)\n",
    "    result = 1/(1 + np.exp(-arr*scale))\n",
    "    return result\n",
    "\n",
    "x = np.linspace(-10, 10)\n",
    "y = sigmoid(x)\n",
    "\n",
    "X = np.array([10,2,1,7,11])\n",
    "Y = np.array([1,0,0,1,0])\n",
    "\n",
    "fig, ax = plt.subplots()\n",
    "ax.plot(x, y, color = \"green\")\n",
    "plt.scatter(X,Y, color=\"red\")\n",
    "plt.axvline(0.0)\n",
    "plt.axhline(1.0 , color=\"Orange\")\n",
    "plt.axhline(0.0, color=\"Orange\")\n",
    "plt.xlabel(\"No of Hours Studied\")\n",
    "plt.ylabel(\"Pass Or Fail\")\n",
    "plt.title(\"Probility of Pass/Fail with No of Hours Studied\")\n"
   ]
  },
  {
   "cell_type": "markdown",
   "metadata": {},
   "source": [
    "# An important Interview Question ⚠️"
   ]
  },
  {
   "cell_type": "markdown",
   "metadata": {},
   "source": [
    "### Now while training our model we cant use mean squared error in this plot of sigmoid function, the reason is, in linear regression's MSE , everything was linear, but in this case as we are using sigmoid function that is a non linear function what will happen is our Error Function will become non linear, hence it will have a lot of Maxima and minima and hence our gradient descend algorithm will not be able to work in that case hence what we use in its place is\n",
    "## Log Loss"
   ]
  },
  {
   "cell_type": "markdown",
   "metadata": {},
   "source": [
    "log loss function is denoted as \n",
    "## Loss = -ylog(y') - (1-y)log(1-y')\n",
    "this function removes the issue that our gradient descend would have converged into the local minima insted of global minima\n",
    "\n",
    "### Now once the loss is minimized, we will feed it to gradient descend which will intern give us weights (w1,w2 , w3 ...) and a bias (b)\n",
    "\n",
    "now we'll simply feed these to our sigmoid function ie\n",
    "## y' = 1/(1+e^-(wx+b))"
   ]
  },
  {
   "cell_type": "markdown",
   "metadata": {},
   "source": [
    "where, x was feature , here no. of hours studied, there will only be one w as there is only one independednt variable and at last we'll have our probability"
   ]
  },
  {
   "cell_type": "markdown",
   "metadata": {},
   "source": []
  }
 ],
 "metadata": {
  "interpreter": {
   "hash": "f1680fa01d71a00f68f22c8ea440229b1dd33f2e70cc503dc3e512cd091a2af1"
  },
  "kernelspec": {
   "display_name": "Python 3.9.7 64-bit",
   "name": "python3"
  },
  "language_info": {
   "codemirror_mode": {
    "name": "ipython",
    "version": 3
   },
   "file_extension": ".py",
   "mimetype": "text/x-python",
   "name": "python",
   "nbconvert_exporter": "python",
   "pygments_lexer": "ipython3",
   "version": "3.9.7"
  },
  "orig_nbformat": 4
 },
 "nbformat": 4,
 "nbformat_minor": 2
}
