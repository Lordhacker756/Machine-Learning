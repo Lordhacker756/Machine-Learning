{
 "cells": [
  {
   "cell_type": "markdown",
   "metadata": {},
   "source": [
    "# Difference Between Classification and Regression"
   ]
  },
  {
   "cell_type": "markdown",
   "metadata": {},
   "source": [
    "### In case of regression our Labels are infinte coz it's our model that predicts our label ie the value, but in case of classification we have predefined labels , hence it's a little easy"
   ]
  },
  {
   "cell_type": "markdown",
   "metadata": {},
   "source": [
    "#### Let's take an example, We are to detect weather the email that we have got is a spam or not"
   ]
  },
  {
   "cell_type": "markdown",
   "metadata": {},
   "source": [
    "So let's take two features for our classifier , one: How much urgency it shows and second: How much it talks about money\n",
    "\n",
    "We rate these two features in the range of 0-100 and plot that damn points , now the ones at the top right of the graph are the spammer's spam🤣"
   ]
  },
  {
   "cell_type": "markdown",
   "metadata": {},
   "source": [
    "# Talk is Cheap, Show Me The Code"
   ]
  },
  {
   "cell_type": "code",
   "execution_count": 5,
   "metadata": {},
   "outputs": [
    {
     "name": "stdout",
     "output_type": "stream",
     "text": [
      "For the features  [5.1 3.5 1.4 0.2]  It is assigned the label  0 \n",
      "\n"
     ]
    }
   ],
   "source": [
    "from sklearn import datasets\n",
    "\n",
    "#Loading datasets\n",
    "iris = datasets.load_iris()\n",
    "\n",
    "#Printing description and features\n",
    "#print(iris.DESCR)\n",
    "feature = iris.data\n",
    "labels = iris.target\n",
    "print(\"For the features \",feature[0],\" It is assigned the label \", labels[0] ,\"\\n\")"
   ]
  },
  {
   "cell_type": "markdown",
   "metadata": {},
   "source": [
    "Here the 4 points are petal sepal and some other lengths and 0 is the index which stores the value Iris-Vernoica ie the flower it identified with the data"
   ]
  },
  {
   "cell_type": "markdown",
   "metadata": {},
   "source": [
    "### Let's train our classifier with our data now"
   ]
  },
  {
   "cell_type": "code",
   "execution_count": null,
   "metadata": {},
   "outputs": [],
   "source": [
    "from sklearn import datasets\n",
    "from sklearn.neighbors import KNeighborsClassifier\n",
    "\n",
    "#Loading datasets\n",
    "iris = datasets.load_iris()\n",
    "\n",
    "features = iris.data\n",
    "labels = iris.target\n",
    "\n",
    "#Training Classifier\n",
    "clf = KNeighborsClassifier()\n",
    "clf.fit(features,labels)\n",
    "\n",
    "#Now it trained itself with the previous data,time to test\n",
    "preds = clf.predict([[1,1,1,1]])\n",
    "print(preds)\n"
   ]
  }
 ],
 "metadata": {
  "interpreter": {
   "hash": "f1680fa01d71a00f68f22c8ea440229b1dd33f2e70cc503dc3e512cd091a2af1"
  },
  "kernelspec": {
   "display_name": "Python 3.9.7 64-bit",
   "name": "python3"
  },
  "language_info": {
   "codemirror_mode": {
    "name": "ipython",
    "version": 3
   },
   "file_extension": ".py",
   "mimetype": "text/x-python",
   "name": "python",
   "nbconvert_exporter": "python",
   "pygments_lexer": "ipython3",
   "version": "3.9.7"
  },
  "orig_nbformat": 4
 },
 "nbformat": 4,
 "nbformat_minor": 2
}
