{
 "cells": [
  {
   "cell_type": "markdown",
   "metadata": {},
   "source": [
    "# Thela Se Samajhte Hai Loss function and Gradient Descend"
   ]
  },
  {
   "cell_type": "markdown",
   "metadata": {},
   "source": [
    "So, whenever we go to buy veggies, we see a stock pile of veggies arranged as a pyramid, so we start to observe from one corner, if the veggies at that corner are not good you simply switch to the other corner where the veggies are good, now we will apply this concept in machine learning, the method obtained is known as Gradient Descend"
   ]
  },
  {
   "cell_type": "markdown",
   "metadata": {},
   "source": [
    "You've already seen a Loss functions that was Sum Of Squared Error(SSE), Others are Mean Squared Error(MSE), Absolute Error (Same as Sum Of Squared Error bas yaha square nahi karte hai)"
   ]
  },
  {
   "cell_type": "markdown",
   "metadata": {},
   "source": [
    "### Let's Understand this with the graph of y=x^2"
   ]
  },
  {
   "cell_type": "code",
   "execution_count": 10,
   "metadata": {},
   "outputs": [
    {
     "data": {
      "image/png": "[encoded data removed]",
      "text/plain": [
       "<Figure size 720x360 with 1 Axes>"
      ]
     },
     "metadata": {
      "needs_background": "light"
     },
     "output_type": "display_data"
    }
   ],
   "source": [
    "# Import libraries\n",
    "import matplotlib.pyplot as plt\n",
    "from matplotlib import style\n",
    "import numpy as np\n",
    "  \n",
    "# Creating vectors X and Y\n",
    "x = np.linspace(-2, 5, 100)\n",
    "y = x ** 2\n",
    "  \n",
    "fig = plt.figure(figsize = (10, 5))\n",
    "# Create the plot\n",
    "style.use('ggplot')\n",
    "plt.plot(x, y,label=\"y = X Squared\")\n",
    "plt.axvline(x=0,label=\"X - Axis\")\n",
    "plt.legend()\n",
    "plt.annotate(\"Starting Here\",[4.0,16.0])\n",
    "# Show the plot\n",
    "plt.show()"
   ]
  },
  {
   "cell_type": "markdown",
   "metadata": {},
   "source": [
    "Now, say if we want to move in this given data as if to make the value of y, minimum as possible, say we start from the point (4,16), now as our goal is to approach the min val of y, the algorithm takes another value of x say 3 and saw it gave a value 9 hence it \"Apporached\" lower value of Y and satisfied our purpose hence,the algorithm will go downwards, until it reaches negative X , here it again checks and finds out that following the pattern we're going away from the lower value hence flips itself back"
   ]
  },
  {
   "cell_type": "markdown",
   "metadata": {},
   "source": [
    "#### This formula that algo uses is => X' = X - LR(dy/dx) , Here LR is the learning rate ie the rate at which it will come down or go up"
   ]
  },
  {
   "cell_type": "markdown",
   "metadata": {},
   "source": [
    "# Now Let's Get A Recap How An ML Model Is Trained"
   ]
  },
  {
   "cell_type": "markdown",
   "metadata": {},
   "source": [
    "### Data is split and Train-Features are said to Model , And the result is given to Loss Function Along with Test-Features, now as per the accuracy we update our parametere (w0,w11,w2...) => Repeat this cycle over a million times and you have your Model Trained  "
   ]
  },
  {
   "cell_type": "markdown",
   "metadata": {},
   "source": [
    "#### Types Of Gradient Descend"
   ]
  },
  {
   "cell_type": "markdown",
   "metadata": {},
   "source": [
    "Normal Gradient Descend => It takes all the Data Of labels into consideration while calculating the loss function.\n",
    "\n",
    "Mini Gradient Descend => We tell the algorithm how much data ie what batch size is going to be used for caluclation of Loss Fucntion.\n",
    "\n",
    "Stochastic Gradient Descend => It has a batch size of one, one prediction is matched with one label to calculate the Loss Function"
   ]
  },
  {
   "cell_type": "markdown",
   "metadata": {},
   "source": [
    "### To choose the learning rate or the rate of descend we use something known as Golidlocks Learning Rate, this is used how to determine the best possible Learning Rate Possible"
   ]
  },
  {
   "cell_type": "markdown",
   "metadata": {},
   "source": []
  }
 ],
 "metadata": {
  "interpreter": {
   "hash": "f1680fa01d71a00f68f22c8ea440229b1dd33f2e70cc503dc3e512cd091a2af1"
  },
  "kernelspec": {
   "display_name": "Python 3.9.7 64-bit",
   "name": "python3"
  },
  "language_info": {
   "codemirror_mode": {
    "name": "ipython",
    "version": 3
   },
   "file_extension": ".py",
   "mimetype": "text/x-python",
   "name": "python",
   "nbconvert_exporter": "python",
   "pygments_lexer": "ipython3",
   "version": "3.9.7"
  },
  "orig_nbformat": 4
 },
 "nbformat": 4,
 "nbformat_minor": 2
}
